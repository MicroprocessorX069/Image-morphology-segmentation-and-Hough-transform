{
  "nbformat": 4,
  "nbformat_minor": 0,
  "metadata": {
    "colab": {
      "name": "Hough Transform.ipynb",
      "version": "0.3.2",
      "provenance": [],
      "collapsed_sections": [],
      "toc_visible": true,
      "include_colab_link": true
    },
    "kernelspec": {
      "name": "python3",
      "display_name": "Python 3"
    }
  },
  "cells": [
    {
      "cell_type": "markdown",
      "metadata": {
        "id": "view-in-github",
        "colab_type": "text"
      },
      "source": [
        "<a href=\"https://colab.research.google.com/github/MicroprocessorX069/Image-morphology-segmentation-and-Hough-transform/blob/master/Hough_Transform.ipynb\" target=\"_parent\"><img src=\"https://colab.research.google.com/assets/colab-badge.svg\" alt=\"Open In Colab\"/></a>"
      ]
    },
    {
      "metadata": {
        "id": "zQ6nvh-fe0j3",
        "colab_type": "code",
        "colab": {}
      },
      "cell_type": "code",
      "source": [
        " import matplotlib.pyplot as plt\n",
        "import numpy as np\n",
        "import cv2\n",
        "def convolution11(input_image, kernel,threshold):\n",
        "  \n",
        "  w_input=len(input_image[0])\n",
        "  h_input=len(input_image)\n",
        "  input_image=np.array(input_image)\n",
        "  padded_input=pad_image(input_image,int((len(kernel)-1)/2),int((len(kernel[0])-1)/2))\n",
        "  padded_input=np.array(padded_input)\n",
        "  kernel=flip(kernel)\n",
        "  sum_kernel=np.sum(kernel)\n",
        "  new_image=np.zeros((len(input_image)+1,len(input_image[0])+1))\n",
        "\n",
        "  for input_x in range(0,h_input):\n",
        "    for input_y in range(0,w_input):\n",
        "        new_image[input_x,input_y]=0\n",
        "        sum_img=0\n",
        "        for kernel_x in range(0,len(kernel)):\n",
        "           for kernel_y in range(0,len(kernel[0])):\n",
        "              new_image[input_x,input_y]=int(new_image[input_x,input_y]) + int(padded_input[input_x+kernel_x, input_y+kernel_y])*int(kernel[kernel_x,kernel_y])\n",
        "        \n",
        "        if new_image[input_x,input_y]>= threshold:\n",
        "          new_image[input_x,input_y]=0\n",
        "        else:\n",
        "          new_image[input_x,input_y]=1\n",
        "        \n",
        " \n",
        "  return(new_image)\n",
        "\n",
        "def flip(matrix):\n",
        "  new_matrix=np.zeros((matrix.shape))\n",
        "  matrix=np.array(matrix)\n",
        "  l=len(matrix)\n",
        "  for i in range(l):\n",
        "    for j in range(l):\n",
        "      new_matrix[i,j]=matrix[l-i-1,l-j-1]\n",
        "  return(new_matrix)\n",
        "\n",
        "def negative(input_image):\n",
        "  #new_image2=np.zeros((len(input_image),len(input_image[0])))\n",
        "  for x in range(len(input_image)):\n",
        "     for y in range(len(input_image[0])):\n",
        "         input_image[x,y]=255-input_image[x,y]\n",
        "          \n",
        "  return(input_image)\n",
        "\n",
        "def pad_image(image,pad_x,pad_y):\n",
        "  image_x=len(image[0])\n",
        "  image_y=len(image)\n",
        "  padded_image=np.zeros((image_y+pad_y*2,image_x+pad_x*2))\n",
        "  padded_image_x=len(padded_image[0])\n",
        "  padded_image_y=len(padded_image)\n",
        "  \n",
        "  for i in range(pad_y,image_y+pad_y):\n",
        "    for j in range(pad_x, image_x+pad_x):\n",
        "      padded_image[i,j]=image[i-pad_y,j-pad_x]\n",
        "  return(padded_image)\n",
        "\n",
        "def find_peaks2(input_image,threshold):\n",
        "  input_image=np.array(input_image)\n",
        "  w_img=input_image.shape[1]\n",
        "  l_img=input_image.shape[0]\n",
        "  lines=[]\n",
        "  for x in range(l_img):\n",
        "    for y in range(w_img):\n",
        "      if input_image[x,y]>= threshold:\n",
        "        input_image[x,y]=255\n",
        "        x1,y1,x2,y2=find_twoPoints(x,y)\n",
        "        lines.append([x1,y1,x2,y2])\n",
        "      else:\n",
        "        input_image[x,y]=0\n",
        "  return np.array(lines),input_image\n",
        "\n",
        "# def erode(input_image,kernel):\n",
        "#   w_kernel=len(kernel[0])\n",
        "#   new_image=convolution11(input_image,kernel,1)\n",
        "#   return(new_image)\n",
        "# def dilate(input_image,kernel):\n",
        "#   w_kernel=len(kernel[0])\n",
        "#   new_image=convolution11(input_image,kernel,w_kernel)\n",
        "#   return(new_image)\n",
        "# def detect(input_image,kernel):"
      ],
      "execution_count": 0,
      "outputs": []
    },
    {
      "metadata": {
        "id": "if405A2XIBwr",
        "colab_type": "text"
      },
      "cell_type": "markdown",
      "source": [
        "##Temp functions"
      ]
    },
    {
      "metadata": {
        "id": "1Su-Zsz-gxWK",
        "colab_type": "code",
        "colab": {}
      },
      "cell_type": "code",
      "source": [
        "import numpy as np\n",
        "import math\n",
        "def hough_lines(input_img):\n",
        "  w_img=len(input_img[0])\n",
        "  l_img=len(input_img)\n",
        "  print(w_img,l_img)\n",
        "  mid_x=int(w_img/2)\n",
        "  mid_y=int(l_img/2)\n",
        "  input_img=np.array(input_img)\n",
        "  origin=np.array([0,0])\n",
        "  d_limit=int(pow(pow(w_img,2)+pow(l_img,2),0.5))\n",
        "  #hough_mat=np.ones((600,361,3)) # d x theta\n",
        "  max_d=int(pow(pow(w_img,2)+pow(l_img,2),0.5))\n",
        "  print(max_d)\n",
        "  hough_image=np.ones((2*max_d+1,180))\n",
        "  #hough_list=[]\n",
        "  \n",
        "  for input_y in range(l_img):\n",
        "    for input_x in range(w_img):\n",
        "       if input_img[input_y,input_x]==0 and input_x!=0: # if the pixel color is white\n",
        "           #estimating gradient of that pixel position\n",
        "          actual_x=input_y-mid_x\n",
        "          actual_y=input_x-mid_y\n",
        "          gradient=-90\n",
        "          while gradient <= 90:\n",
        "            gradient=math.radians(gradient)\n",
        "            #Finading d\n",
        "            d=int(input_x*math.cos(gradient)+input_y*math.sin(gradient))\n",
        "            gradient=int(math.degrees(gradient))\n",
        "            #print(d,gradient)\n",
        "            hough_image[max_d+d, 90+gradient]+=1\n",
        "#             hough_mat[w_img+d,gradient,2]+=1\n",
        "#             hough_mat[w_img+d,gradient,1]=gradient\n",
        "#             hough_mat[w_img+d,gradient,0]=d\n",
        "#             hough_list.append([gradient,d])\n",
        "            gradient=gradient+2\n",
        "  return hough_image\n",
        "\n",
        "\n",
        "import numpy as np\n",
        "import math\n",
        "def hough_lines2(input_img):\n",
        "  w_img=len(input_img[0])\n",
        "  l_img=len(input_img)\n",
        "  mid_x=int(w_img/2)\n",
        "  mid_y=int(l_img/2)\n",
        "  input_img=np.array(input_img)\n",
        "  origin=np.array([0,0])\n",
        "  d_limit=int(pow(pow(w_img,2)+pow(l_img,2),0.5))\n",
        "  hough_mat=np.ones((800,360,3)) # d x theta\n",
        "  hough_image=np.ones((800,360)) # d x theta\n",
        "  hough_list=[]\n",
        "  \n",
        "  max=0\n",
        "  for input_y in range(l_img):\n",
        "    for input_x in range(w_img):\n",
        "       if input_img[input_y,input_x]==0 and input_x!=0: # if the pixel color is white\n",
        "          actual_x=input_y-mid_x\n",
        "          actual_y=input_x-mid_y\n",
        "          #estimating gradient of that pixel position\n",
        "          gradient=math.atan(input_y/input_x)\n",
        "          #Finading d\n",
        "          d=int(input_x*math.cos(gradient)-input_y*math.sin(gradient))\n",
        "          #d=int(actual_x*math.cos(gradient)+actual_y*math.sin(gradient))\n",
        "          gradient=int(math.degrees(gradient))\n",
        "          #print(d,gradient)\n",
        "          hough_image[w_img+d,gradient]=0\n",
        "          hough_mat[w_img+d,gradient,2]+=1\n",
        "          hough_mat[w_img+d,gradient,1]=gradient\n",
        "          hough_mat[w_img+d,gradient,0]=w_img+d\n",
        "          hough_list.append([gradient,d])\n",
        "                               \n",
        "  return hough_mat,hough_image\n",
        "\n",
        "def negative_forBinary(input_image):\n",
        "  #new_image2=np.zeros((len(input_image),len(input_image[0])))\n",
        "  for x in range(len(input_image)):\n",
        "     for y in range(len(input_image[0])):\n",
        "         if input_image[x,y]==1:\n",
        "            input_image[x,y]=0\n",
        "         else:\n",
        "            input_image[x,y]=1\n",
        "          \n",
        "  return(input_image)\n"
      ],
      "execution_count": 0,
      "outputs": []
    },
    {
      "metadata": {
        "id": "hDW-YyRQH-F2",
        "colab_type": "text"
      },
      "cell_type": "markdown",
      "source": [
        "##Final Functions"
      ]
    },
    {
      "metadata": {
        "id": "Rz-C8T8TH0Be",
        "colab_type": "code",
        "colab": {}
      },
      "cell_type": "code",
      "source": [
        "import numpy as np\n",
        "import math\n",
        "def hough_lines(input_img):\n",
        "  w_img=len(input_img[0])\n",
        "  l_img=len(input_img)\n",
        "  print(w_img,l_img)\n",
        "  mid_x=int(w_img/2)\n",
        "  mid_y=int(l_img/2)\n",
        "  input_img=np.array(input_img)\n",
        "  origin=np.array([0,0])\n",
        "  max_d=int(pow(pow(w_img,2)+pow(l_img,2),0.5))\n",
        "  print(max_d)\n",
        "  hough_image=np.ones((2*max_d+1,180))\n",
        "  \n",
        "  \n",
        "  for input_y in range(l_img):\n",
        "    for input_x in range(w_img):\n",
        "       if input_img[input_y,input_x]==0 and input_x!=0: # if the pixel color is white\n",
        "           #estimating gradient of that pixel position\n",
        "          gradient=-90\n",
        "          while gradient <= 0:\n",
        "            gradient=math.radians(gradient)\n",
        "            #Finading d\n",
        "            d=int(input_x*math.cos(gradient)+input_y*math.sin(gradient))\n",
        "            gradient=int(math.degrees(gradient))\n",
        "            #print(d,gradient)\n",
        "            hough_image[max_d+d, 90+gradient]+=1\n",
        "            gradient=gradient+2\n",
        "  #peak_image=find_peaks(hough_image,20)\n",
        "  lines,peak_image=find_peaks2(hough_image,75)\n",
        "  return hough_image,lines,peak_image\n",
        "\n",
        "def hough_lines2(input_img):\n",
        "  w_img=len(input_img[0])\n",
        "  l_img=len(input_img)\n",
        "  print(w_img,l_img)\n",
        "  mid_x=int(w_img/2)\n",
        "  mid_y=int(l_img/2)\n",
        "  input_img=np.array(input_img)\n",
        "  origin=np.array([0,0])\n",
        "  max_d=int(pow(pow(w_img,2)+pow(l_img,2),0.5))\n",
        "  print(max_d)\n",
        "  hough_image=np.ones((2*max_d+1,180))\n",
        "  \n",
        "  \n",
        "  for input_y in range(l_img):\n",
        "    for input_x in range(w_img):\n",
        "       if input_img[input_y,input_x]==0 and input_x!=0: # if the pixel color is white\n",
        "           #estimating gradient of that pixel position\n",
        "          gradient=-90\n",
        "          while gradient <= 0:\n",
        "            gradient=math.radians(gradient)\n",
        "            #Finading d\n",
        "            d=int(input_x*math.cos(gradient)+input_y*math.sin(gradient))\n",
        "            gradient=int(math.degrees(gradient))\n",
        "            #print(d,gradient)\n",
        "            hough_image[max_d+d, 90+gradient]+=1\n",
        "            gradient=gradient+2\n",
        "  #peak_image=find_peaks(hough_image,20)\n",
        "  lines,peak_image=find_peaks2(hough_image,35)\n",
        "  return hough_image,lines,peak_image\n",
        "\n",
        "\n",
        "def negative_forBinary(input_image):\n",
        "  for x in range(len(input_image)):\n",
        "     for y in range(len(input_image[0])):\n",
        "         if input_image[x,y]==1:\n",
        "            input_image[x,y]=0\n",
        "         else:\n",
        "            input_image[x,y]=1\n",
        "          \n",
        "  return(input_image)\n",
        "\n",
        "def find_peaks(hough_image,window_size=10):\n",
        "  peak_image=np.ones(hough_image.shape)\n",
        "  w_img=hough_image.shape[1]\n",
        "  l_img=hough_image.shape[0]\n",
        "  y,x=0,0\n",
        "  \n",
        "  while y+window_size<=l_img:\n",
        "    while x+window_size<=w_img:\n",
        "      temp=hough_image[y:y+window_size,x:x+window_size]\n",
        "      max_y,max_x=np.unravel_index(np.argmax(temp),(temp.shape))\n",
        "      peak_image[y+max_y,x+max_x]=np.amax(temp)\n",
        "      x+=window_size\n",
        "    y+=window_size\n",
        "  return peak_image    \n",
        "\n",
        "def find_twoPoints(d,grad):\n",
        "  y1=20\n",
        "  y2=0\n",
        "  grad=math.radians(grad)\n",
        "  if(math.cos(grad)!=0):\n",
        "    x1=(d-y1*math.sin(grad))/math.cos(grad)\n",
        "    x2=(d-y2*math.sin(grad))/math.cos(grad)\n",
        "  else:\n",
        "    x1=0\n",
        "    x2=0\n",
        "  return x1, y1, x2, y2\n"
      ],
      "execution_count": 0,
      "outputs": []
    },
    {
      "metadata": {
        "id": "WcTV2U2eXLUG",
        "colab_type": "text"
      },
      "cell_type": "markdown",
      "source": [
        "##Driver\n"
      ]
    },
    {
      "metadata": {
        "id": "-OmqJZdjk3li",
        "colab_type": "code",
        "outputId": "8a50f1ac-d00f-4abb-9c9c-dde2c5c1dad8",
        "colab": {
          "base_uri": "https://localhost:8080/",
          "height": 85
        }
      },
      "cell_type": "code",
      "source": [
        "import numpy as np\n",
        "import matplotlib.pyplot as plt\n",
        "import cv2\n",
        "#black =0\n",
        "#white=1\n",
        "vertical_kernel=np.array([[-1,2,-1],[-1,2,-1],[-1,2,-1]])\n",
        "slant_kernel=np.array([[2,-1,-1],[-1,2,-1],[-1,-1,2]])\n",
        "input_image=cv2.imread(\"hough.jpg\",cv2.IMREAD_GRAYSCALE) #make sure the path to the image is in String format\n",
        "vertical_detection=convolution11(input_image,vertical_kernel,120)\n",
        "slant_detection=convolution11(input_image,slant_kernel,80)\n",
        "hough_image_vertical,vertical_points,peaks_vertical = hough_lines(vertical_detection)\n",
        "#cv.imwrite(\"peaksVertical.jpg\",cv2.polylines(input_image,[vertical_points],True,(0,255,255)))\n",
        "hough_image_slant,slant_points,slant_peaks=hough_lines2(slant_detection)\n",
        "#cv.imwrite(\"peaksSlant.jpg\",cv2.polylines(input_image,[slant_points],True,(0,255,255)))\n",
        "\n",
        "\n"
      ],
      "execution_count": 0,
      "outputs": [
        {
          "output_type": "stream",
          "text": [
            "667 478\n",
            "820\n",
            "667 478\n",
            "820\n"
          ],
          "name": "stdout"
        }
      ]
    },
    {
      "metadata": {
        "colab_type": "code",
        "outputId": "e9979fa3-92a4-4071-ba35-a0e66b844ab8",
        "id": "yNoLSq3XYDqF",
        "colab": {
          "base_uri": "https://localhost:8080/",
          "height": 34
        }
      },
      "cell_type": "code",
      "source": [
        "\n",
        "import numpy as np\n",
        "import cv2 as cv\n",
        "\n",
        "x1,y1,x2,y2=int(vertical_points[2,0]),int(vertical_points[2,1]),int(vertical_points[2,2]),int(vertical_points[2,3])\n",
        "cv.imwrite(\"peaksVertical.jpg\",cv.line(input_image,(x1,y1),(x2,y2),(255,84,23),5))\n"
      ],
      "execution_count": 0,
      "outputs": [
        {
          "output_type": "execute_result",
          "data": {
            "text/plain": [
              "True"
            ]
          },
          "metadata": {
            "tags": []
          },
          "execution_count": 133
        }
      ]
    },
    {
      "metadata": {
        "colab_type": "code",
        "outputId": "f471a4af-619f-4ed0-f7e0-a026de210b4f",
        "id": "YZCH7_5YYCdr",
        "colab": {
          "base_uri": "https://localhost:8080/",
          "height": 34
        }
      },
      "cell_type": "code",
      "source": [
        "cv.imwrite(\"peaksVertical.jpg\",peaks_vertical)\n",
        "cv.imwrite(\"peaksSlant.jpg\",slant_peaks)"
      ],
      "execution_count": 0,
      "outputs": [
        {
          "output_type": "execute_result",
          "data": {
            "text/plain": [
              "True"
            ]
          },
          "metadata": {
            "tags": []
          },
          "execution_count": 142
        }
      ]
    }
  ]
}
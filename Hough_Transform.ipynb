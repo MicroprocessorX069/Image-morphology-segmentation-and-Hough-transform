{
  "nbformat": 4,
  "nbformat_minor": 0,
  "metadata": {
    "colab": {
      "name": "Hough Transform.ipynb",
      "version": "0.3.2",
      "provenance": [],
      "collapsed_sections": [],
      "include_colab_link": true
    },
    "kernelspec": {
      "name": "python3",
      "display_name": "Python 3"
    }
  },
  "cells": [
    {
      "cell_type": "markdown",
      "metadata": {
        "id": "view-in-github",
        "colab_type": "text"
      },
      "source": [
        "<a href=\"https://colab.research.google.com/github/MicroprocessorX069/Image-morphology-segmentation-and-Hough-transform/blob/master/Hough_Transform.ipynb\" target=\"_parent\"><img src=\"https://colab.research.google.com/assets/colab-badge.svg\" alt=\"Open In Colab\"/></a>"
      ]
    },
    {
      "metadata": {
        "id": "zQ6nvh-fe0j3",
        "colab_type": "code",
        "colab": {}
      },
      "cell_type": "code",
      "source": [
        "import matplotlib.pyplot as plt\n",
        "import numpy as np\n",
        "import cv2\n",
        "def convolution11(input_image, kernel,threshold):\n",
        "  \n",
        "  w_input=len(input_image[0])\n",
        "  h_input=len(input_image)\n",
        "  input_image=np.array(input_image)\n",
        "  padded_input=pad_image(input_image,int((len(kernel)-1)/2),int((len(kernel[0])-1)/2))\n",
        "  padded_input=np.array(padded_input)\n",
        "  kernel=flip(kernel)\n",
        "  sum_kernel=np.sum(kernel)\n",
        "  new_image=np.zeros((len(input_image)+1,len(input_image[0])+1))\n",
        "\n",
        "  for input_x in range(0,h_input):\n",
        "    for input_y in range(0,w_input):\n",
        "        new_image[input_x,input_y]=0\n",
        "        sum_img=0\n",
        "        for kernel_x in range(0,len(kernel)):\n",
        "           for kernel_y in range(0,len(kernel[0])):\n",
        "              new_image[input_x,input_y]=int(new_image[input_x,input_y]) + int(padded_input[input_x+kernel_x, input_y+kernel_y])*int(kernel[kernel_x,kernel_y])\n",
        "        \n",
        "        if new_image[input_x,input_y]>= threshold:\n",
        "          new_image[input_x,input_y]=0\n",
        "        else:\n",
        "          new_image[input_x,input_y]=1\n",
        "        \n",
        " \n",
        "  return(new_image)\n",
        "\n",
        "def flip(matrix):\n",
        "  new_matrix=np.zeros((matrix.shape))\n",
        "  matrix=np.array(matrix)\n",
        "  l=len(matrix)\n",
        "  for i in range(l):\n",
        "    for j in range(l):\n",
        "      new_matrix[i,j]=matrix[l-i-1,l-j-1]\n",
        "  return(new_matrix)\n",
        "\n",
        "def negative(input_image):\n",
        "  #new_image2=np.zeros((len(input_image),len(input_image[0])))\n",
        "  for x in range(len(input_image)):\n",
        "     for y in range(len(input_image[0])):\n",
        "         input_image[x,y]=255-input_image[x,y]\n",
        "          \n",
        "  return(input_image)\n",
        "\n",
        "def pad_image(image,pad_x,pad_y):\n",
        "  image_x=len(image[0])\n",
        "  image_y=len(image)\n",
        "  padded_image=np.zeros((image_y+pad_y*2,image_x+pad_x*2))\n",
        "  padded_image_x=len(padded_image[0])\n",
        "  padded_image_y=len(padded_image)\n",
        "  \n",
        "  for i in range(pad_y,image_y+pad_y):\n",
        "    for j in range(pad_x, image_x+pad_x):\n",
        "      padded_image[i,j]=image[i-pad_y,j-pad_x]\n",
        "  return(padded_image)\n",
        "\n",
        "def threshold(input_image,threshold):\n",
        "  w=len(input_image[0])\n",
        "  h=len(input_image)\n",
        "  input_image=np.array(input_image)\n",
        "  \n",
        "  for x in range(h):\n",
        "    for y in range(w):\n",
        "      if input_image[x,y]>= threshold:\n",
        "        input_image[x,y]=1\n",
        "      else:\n",
        "        input_image[x,y]=0\n",
        "  return list(input_image)\n",
        "\n",
        "# def erode(input_image,kernel):\n",
        "#   w_kernel=len(kernel[0])\n",
        "#   new_image=convolution11(input_image,kernel,1)\n",
        "#   return(new_image)\n",
        "# def dilate(input_image,kernel):\n",
        "#   w_kernel=len(kernel[0])\n",
        "#   new_image=convolution11(input_image,kernel,w_kernel)\n",
        "#   return(new_image)\n",
        "# def detect(input_image,kernel):"
      ],
      "execution_count": 0,
      "outputs": []
    },
    {
      "metadata": {
        "id": "1Su-Zsz-gxWK",
        "colab_type": "code",
        "colab": {}
      },
      "cell_type": "code",
      "source": [
        "import numpy as np\n",
        "import math\n",
        "def hough_lines(input_img):\n",
        "  w_img=len(input_img[0])\n",
        "  l_img=len(input_img)\n",
        "  mid_x=int(w_img/2)\n",
        "  mid_y=int(l_img/2)\n",
        "  input_img=np.array(input_img)\n",
        "  origin=np.array([0,0])\n",
        "  d_limit=int(pow(pow(w_img,2)+pow(l_img,2),0.5))\n",
        "  hough_mat=np.ones((600,361,3)) # d x theta\n",
        "  hough_list=[]\n",
        "  \n",
        "  for input_y in range(l_img):\n",
        "    for input_x in range(w_img):\n",
        "       if input_img[input_y,input_x]==0 and input_x!=0: # if the pixel color is white\n",
        "           #estimating gradient of that pixel position\n",
        "          actual_x=input_y-mid_x\n",
        "          actual_y=input_x-mid_y\n",
        "          gradient=-180\n",
        "          while gradient <= 180:\n",
        "            gradient=math.radians(gradient)\n",
        "            #Finading d\n",
        "            d=int(actual_x*math.cos(gradient)+actual_y*math.sin(gradient))\n",
        "            gradient=int(math.degrees(gradient))\n",
        "            #print(d,gradient)\n",
        "            hough_mat[w_img+d,gradient,2]+=1\n",
        "            hough_mat[w_img+d,gradient,1]=gradient\n",
        "            hough_mat[w_img+d,gradient,0]=d\n",
        "            hough_list.append([gradient,d])\n",
        "            gradient=gradient+10\n",
        "  return hough_mat,hough_list\n",
        "\n",
        "\n",
        "import numpy as np\n",
        "import math\n",
        "def hough_lines2(input_img):\n",
        "  w_img=len(input_img[0])\n",
        "  l_img=len(input_img)\n",
        "  mid_x=int(w_img/2)\n",
        "  mid_y=int(l_img/2)\n",
        "  input_img=np.array(input_img)\n",
        "  origin=np.array([0,0])\n",
        "  d_limit=int(pow(pow(w_img,2)+pow(l_img,2),0.5))\n",
        "  hough_mat=np.ones((800,360,3)) # d x theta\n",
        "  hough_list=[]\n",
        "  \n",
        "  max=0\n",
        "  for input_y in range(l_img):\n",
        "    for input_x in range(w_img):\n",
        "       if input_img[input_y,input_x]==0 and input_x!=0: # if the pixel color is white\n",
        "          actual_x=input_y-mid_x\n",
        "          actual_y=input_x-mid_y\n",
        "          #estimating gradient of that pixel position\n",
        "          gradient=math.atan(input_y/input_x)\n",
        "          #Finading d\n",
        "          #d=int(input_x*math.cos(gradient)-input_y*math.sin(gradient))\n",
        "          d=int(actual_x*math.cos(gradient)+actual_y*math.sin(gradient))\n",
        "          gradient=int(math.degrees(gradient))\n",
        "          #print(d,gradient)\n",
        "          hough_mat[w_img+d,gradient,2]+=1\n",
        "          hough_mat[w_img+d,gradient,1]=gradient\n",
        "          hough_mat[w_img+d,gradient,0]=w_img+d\n",
        "          hough_list.append([gradient,d])\n",
        "                               \n",
        "  return hough_mat,hough_list\n",
        "\n",
        "def negative_forBinary(input_image):\n",
        "  #new_image2=np.zeros((len(input_image),len(input_image[0])))\n",
        "  for x in range(len(input_image)):\n",
        "     for y in range(len(input_image[0])):\n",
        "         if input_image[x,y]==1:\n",
        "            input_image[x,y]=0\n",
        "         else:\n",
        "            input_image[x,y]=1\n",
        "          \n",
        "  return(input_image)\n"
      ],
      "execution_count": 0,
      "outputs": []
    },
    {
      "metadata": {
        "id": "-OmqJZdjk3li",
        "colab_type": "code",
        "outputId": "e654fae9-da64-4e7a-ad50-979ebb7b1e06",
        "colab": {
          "base_uri": "https://localhost:8080/",
          "height": 68
        }
      },
      "cell_type": "code",
      "source": [
        "import numpy as np\n",
        "import matplotlib.pyplot as plt\n",
        "import cv2\n",
        "#black =0\n",
        "#white=1\n",
        "vertical_kernel=np.array([[-1,2,-1],[-1,2,-1],[-1,2,-1]])\n",
        "input_image=cv2.imread(\"houghSmall.jpg\",cv2.IMREAD_GRAYSCALE) #make sure the path to the image is in String format\n",
        "vertical_detection=convolution11(input_image,vertical_kernel,100)\n",
        "hough_mat,hough_list=np.array(hough_lines(vertical_detection))\n"
      ],
      "execution_count": 29,
      "outputs": [
        {
          "output_type": "stream",
          "text": [
            "Shape of Input IMage: (247, 296)\n",
            "Shape of Padded IMage: (249, 298)\n",
            "Shape of Kernel: (3, 3)\n"
          ],
          "name": "stdout"
        }
      ]
    },
    {
      "metadata": {
        "id": "hjx1KVVsmQbW",
        "colab_type": "code",
        "colab": {}
      },
      "cell_type": "code",
      "source": [
        "plt.imshow(vertical_detection)"
      ],
      "execution_count": 0,
      "outputs": []
    },
    {
      "metadata": {
        "id": "xjsKdeI_8tNQ",
        "colab_type": "code",
        "colab": {
          "base_uri": "https://localhost:8080/",
          "height": 347
        },
        "outputId": "32cb64c3-d9ae-4683-fcc1-435fb49f4ee6"
      },
      "cell_type": "code",
      "source": [
        "hough_list=np.array(hough_list)\n",
        "plt.scatter(hough_list[:,0],hough_list[:,1],1)\n",
        "plt.show()"
      ],
      "execution_count": 30,
      "outputs": [
        {
          "output_type": "display_data",
          "data": {
            "image/png": "[encoded data removed]",
            "text/plain": [
              "<matplotlib.figure.Figure at 0x7f6adb057be0>"
            ]
          },
          "metadata": {
            "tags": []
          }
        }
      ]
    },
    {
      "metadata": {
        "id": "WJZ1DOip9VxE",
        "colab_type": "code",
        "colab": {
          "base_uri": "https://localhost:8080/",
          "height": 34
        },
        "outputId": "c1e514af-86b0-4089-80be-13abd7b800c2"
      },
      "cell_type": "code",
      "source": [
        "hough_list[:,0]"
      ],
      "execution_count": 22,
      "outputs": [
        {
          "output_type": "execute_result",
          "data": {
            "text/plain": [
              "array([-180, -170, -160, ...,  151,  161,  171])"
            ]
          },
          "metadata": {
            "tags": []
          },
          "execution_count": 22
        }
      ]
    },
    {
      "metadata": {
        "id": "V1LOqs_6yVoy",
        "colab_type": "code",
        "outputId": "7e966b83-0774-4220-b544-4bf7dfab84d7",
        "colab": {
          "base_uri": "https://localhost:8080/",
          "height": 368
        }
      },
      "cell_type": "code",
      "source": [
        "plt.imshow(negative(hough_mat))"
      ],
      "execution_count": 15,
      "outputs": [
        {
          "output_type": "execute_result",
          "data": {
            "text/plain": [
              "<matplotlib.image.AxesImage at 0x7f6adb256ba8>"
            ]
          },
          "metadata": {
            "tags": []
          },
          "execution_count": 15
        },
        {
          "output_type": "display_data",
          "data": {
            "image/png": "[encoded data removed]",
            "text/plain": [
              "<matplotlib.figure.Figure at 0x7f6adb282668>"
            ]
          },
          "metadata": {
            "tags": []
          }
        }
      ]
    },
    {
      "metadata": {
        "id": "666oXS40QmiW",
        "colab_type": "code",
        "outputId": "4be4f7c4-5d2e-43f3-b506-d6c41b5bca98",
        "colab": {
          "base_uri": "https://localhost:8080/",
          "height": 34
        }
      },
      "cell_type": "code",
      "source": [
        "print(np.amax(hough_mat[:,:,2]))"
      ],
      "execution_count": 0,
      "outputs": [
        {
          "output_type": "stream",
          "text": [
            "9.0\n"
          ],
          "name": "stdout"
        }
      ]
    },
    {
      "metadata": {
        "id": "_VIiFeaVUIWV",
        "colab_type": "code",
        "outputId": "c914a46f-a0ad-4788-e64c-c874e4e66b0c",
        "colab": {
          "base_uri": "https://localhost:8080/",
          "height": 333
        }
      },
      "cell_type": "code",
      "source": [
        "print(hough_mat.shape)\n",
        "hough_list=hough_mat.reshape(-1,hough_mat.shape[-1])\n",
        "max_votes=hough_list[np.argmax(hough_list[:,2]),2]\n",
        "d=hough_list[np.argmax(hough_list[:,2]),0]\n",
        "grad_max=hough_list[np.argmax(hough_list[:,2]),1]\n",
        "print(\"gradient: \",grad_max)\n",
        "def find_twoPoints(d,grad):\n",
        "  x1=200\n",
        "  x2=0\n",
        "  grad=math.radians(grad)\n",
        "  y1=(d-x1*math.cos(grad))/math.sin(grad)\n",
        "  y2=(d-x2*math.cos(grad))/math.sin(grad)\n",
        "  return x1, y1, x2, y2\n",
        "\n",
        "x1,y1,x2,y2=find_twoPoints(d,grad_max)\n",
        "print(x1,y1,x2,y2)\n",
        "\n",
        "vertical_detection2= cv2.line(vertical_detection,(int(x1),int(y1)),(int(x2),int(y2)),(255,0,0),2)\n",
        "plt.imshow(vertical_detection2)"
      ],
      "execution_count": 0,
      "outputs": [
        {
          "output_type": "stream",
          "text": [
            "(1800, 21, 3)\n",
            "gradient:  0.0\n",
            "200 inf 0 inf\n"
          ],
          "name": "stdout"
        },
        {
          "output_type": "stream",
          "text": [
            "/usr/local/lib/python3.6/dist-packages/ipykernel_launcher.py:11: RuntimeWarning: divide by zero encountered in double_scalars\n",
            "  # This is added back by InteractiveShellApp.init_path()\n",
            "/usr/local/lib/python3.6/dist-packages/ipykernel_launcher.py:12: RuntimeWarning: divide by zero encountered in double_scalars\n",
            "  if sys.path[0] == '':\n"
          ],
          "name": "stderr"
        },
        {
          "output_type": "error",
          "ename": "OverflowError",
          "evalue": "ignored",
          "traceback": [
            "\u001b[0;31m---------------------------------------------------------------------------\u001b[0m",
            "\u001b[0;31mOverflowError\u001b[0m                             Traceback (most recent call last)",
            "\u001b[0;32m<ipython-input-73-bdea93f8d60b>\u001b[0m in \u001b[0;36m<module>\u001b[0;34m()\u001b[0m\n\u001b[1;32m     16\u001b[0m \u001b[0mprint\u001b[0m\u001b[0;34m(\u001b[0m\u001b[0mx1\u001b[0m\u001b[0;34m,\u001b[0m\u001b[0my1\u001b[0m\u001b[0;34m,\u001b[0m\u001b[0mx2\u001b[0m\u001b[0;34m,\u001b[0m\u001b[0my2\u001b[0m\u001b[0;34m)\u001b[0m\u001b[0;34m\u001b[0m\u001b[0;34m\u001b[0m\u001b[0m\n\u001b[1;32m     17\u001b[0m \u001b[0;34m\u001b[0m\u001b[0m\n\u001b[0;32m---> 18\u001b[0;31m \u001b[0mvertical_detection2\u001b[0m\u001b[0;34m=\u001b[0m \u001b[0mcv2\u001b[0m\u001b[0;34m.\u001b[0m\u001b[0mline\u001b[0m\u001b[0;34m(\u001b[0m\u001b[0mvertical_detection\u001b[0m\u001b[0;34m,\u001b[0m\u001b[0;34m(\u001b[0m\u001b[0mint\u001b[0m\u001b[0;34m(\u001b[0m\u001b[0mx1\u001b[0m\u001b[0;34m)\u001b[0m\u001b[0;34m,\u001b[0m\u001b[0mint\u001b[0m\u001b[0;34m(\u001b[0m\u001b[0my1\u001b[0m\u001b[0;34m)\u001b[0m\u001b[0;34m)\u001b[0m\u001b[0;34m,\u001b[0m\u001b[0;34m(\u001b[0m\u001b[0mint\u001b[0m\u001b[0;34m(\u001b[0m\u001b[0mx2\u001b[0m\u001b[0;34m)\u001b[0m\u001b[0;34m,\u001b[0m\u001b[0mint\u001b[0m\u001b[0;34m(\u001b[0m\u001b[0my2\u001b[0m\u001b[0;34m)\u001b[0m\u001b[0;34m)\u001b[0m\u001b[0;34m,\u001b[0m\u001b[0;34m(\u001b[0m\u001b[0;36m255\u001b[0m\u001b[0;34m,\u001b[0m\u001b[0;36m0\u001b[0m\u001b[0;34m,\u001b[0m\u001b[0;36m0\u001b[0m\u001b[0;34m)\u001b[0m\u001b[0;34m,\u001b[0m\u001b[0;36m2\u001b[0m\u001b[0;34m)\u001b[0m\u001b[0;34m\u001b[0m\u001b[0;34m\u001b[0m\u001b[0m\n\u001b[0m\u001b[1;32m     19\u001b[0m \u001b[0mplt\u001b[0m\u001b[0;34m.\u001b[0m\u001b[0mimshow\u001b[0m\u001b[0;34m(\u001b[0m\u001b[0mvertical_detection2\u001b[0m\u001b[0;34m)\u001b[0m\u001b[0;34m\u001b[0m\u001b[0;34m\u001b[0m\u001b[0m\n",
            "\u001b[0;31mOverflowError\u001b[0m: cannot convert float infinity to integer"
          ]
        }
      ]
    },
    {
      "metadata": {
        "id": "9EXJwJf1Q0-_",
        "colab_type": "code",
        "outputId": "bf444638-bf17-4bbb-f023-4a10ad567be2",
        "colab": {
          "base_uri": "https://localhost:8080/",
          "height": 180
        }
      },
      "cell_type": "code",
      "source": [
        "arr=np.array([[1,0,2],[2,8,32],[4,6,112],[1,3,12]])\n",
        "arr2=arr[np.argsort(arr[:,:,2])]"
      ],
      "execution_count": 0,
      "outputs": [
        {
          "output_type": "error",
          "ename": "IndexError",
          "evalue": "ignored",
          "traceback": [
            "\u001b[0;31m---------------------------------------------------------------------------\u001b[0m",
            "\u001b[0;31mIndexError\u001b[0m                                Traceback (most recent call last)",
            "\u001b[0;32m<ipython-input-10-20f6affc4ece>\u001b[0m in \u001b[0;36m<module>\u001b[0;34m()\u001b[0m\n\u001b[1;32m      1\u001b[0m \u001b[0marr\u001b[0m\u001b[0;34m=\u001b[0m\u001b[0mnp\u001b[0m\u001b[0;34m.\u001b[0m\u001b[0marray\u001b[0m\u001b[0;34m(\u001b[0m\u001b[0;34m[\u001b[0m\u001b[0;34m[\u001b[0m\u001b[0;36m1\u001b[0m\u001b[0;34m,\u001b[0m\u001b[0;36m0\u001b[0m\u001b[0;34m,\u001b[0m\u001b[0;36m2\u001b[0m\u001b[0;34m]\u001b[0m\u001b[0;34m,\u001b[0m\u001b[0;34m[\u001b[0m\u001b[0;36m2\u001b[0m\u001b[0;34m,\u001b[0m\u001b[0;36m8\u001b[0m\u001b[0;34m,\u001b[0m\u001b[0;36m32\u001b[0m\u001b[0;34m]\u001b[0m\u001b[0;34m,\u001b[0m\u001b[0;34m[\u001b[0m\u001b[0;36m4\u001b[0m\u001b[0;34m,\u001b[0m\u001b[0;36m6\u001b[0m\u001b[0;34m,\u001b[0m\u001b[0;36m112\u001b[0m\u001b[0;34m]\u001b[0m\u001b[0;34m,\u001b[0m\u001b[0;34m[\u001b[0m\u001b[0;36m1\u001b[0m\u001b[0;34m,\u001b[0m\u001b[0;36m3\u001b[0m\u001b[0;34m,\u001b[0m\u001b[0;36m12\u001b[0m\u001b[0;34m]\u001b[0m\u001b[0;34m]\u001b[0m\u001b[0;34m)\u001b[0m\u001b[0;34m\u001b[0m\u001b[0;34m\u001b[0m\u001b[0m\n\u001b[0;32m----> 2\u001b[0;31m \u001b[0marr2\u001b[0m\u001b[0;34m=\u001b[0m\u001b[0marr\u001b[0m\u001b[0;34m[\u001b[0m\u001b[0mnp\u001b[0m\u001b[0;34m.\u001b[0m\u001b[0margsort\u001b[0m\u001b[0;34m(\u001b[0m\u001b[0marr\u001b[0m\u001b[0;34m[\u001b[0m\u001b[0;34m:\u001b[0m\u001b[0;34m,\u001b[0m\u001b[0;34m:\u001b[0m\u001b[0;34m,\u001b[0m\u001b[0;36m2\u001b[0m\u001b[0;34m]\u001b[0m\u001b[0;34m)\u001b[0m\u001b[0;34m]\u001b[0m\u001b[0;34m\u001b[0m\u001b[0;34m\u001b[0m\u001b[0m\n\u001b[0m",
            "\u001b[0;31mIndexError\u001b[0m: too many indices for array"
          ]
        }
      ]
    },
    {
      "metadata": {
        "id": "z7eMXukAaOBa",
        "colab_type": "code",
        "colab": {}
      },
      "cell_type": "code",
      "source": [
        "import numpy as np    \n",
        "A = np.array([[[1,1,3],[3,4,36]],[[7,9,9],[9,0,3]],[[4,23,12],[2,53,6]]])\n",
        "A_list=A.reshape(-1,A.shape[-1])\n",
        "#np.argmax(A[:,:,2])\n",
        "#np.argmax(A[np.argmax(A[:,:,2]),:,2])# 2, which is the position of 9\n",
        "A_list.shape\n",
        "#A_list[np.argmax(A_list[:,2]),0]\n",
        "indices = np.argpartition(A_list, -2)[-2:]"
      ],
      "execution_count": 0,
      "outputs": []
    },
    {
      "metadata": {
        "id": "1LpDCiy_e4fv",
        "colab_type": "code",
        "outputId": "49b1a857-6342-4c57-a689-2fcfbaa133b8",
        "colab": {
          "base_uri": "https://localhost:8080/",
          "height": 51
        }
      },
      "cell_type": "code",
      "source": [
        "indices"
      ],
      "execution_count": 0,
      "outputs": [
        {
          "output_type": "execute_result",
          "data": {
            "text/plain": [
              "array([[0, 2, 1],\n",
              "       [0, 2, 1]])"
            ]
          },
          "metadata": {
            "tags": []
          },
          "execution_count": 34
        }
      ]
    }
  ]
}
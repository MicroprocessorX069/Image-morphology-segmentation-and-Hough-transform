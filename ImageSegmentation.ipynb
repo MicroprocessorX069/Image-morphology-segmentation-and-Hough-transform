{
  "nbformat": 4,
  "nbformat_minor": 0,
  "metadata": {
    "colab": {
      "name": "ImageSegmentation.ipynb",
      "version": "0.3.2",
      "provenance": [],
      "include_colab_link": true
    },
    "kernelspec": {
      "name": "python3",
      "display_name": "Python 3"
    }
  },
  "cells": [
    {
      "cell_type": "markdown",
      "metadata": {
        "id": "view-in-github",
        "colab_type": "text"
      },
      "source": [
        "<a href=\"https://colab.research.google.com/github/MicroprocessorX069/Image-morphology-segmentation-and-Hough-transform/blob/master/ImageSegmentation.ipynb\" target=\"_parent\"><img src=\"https://colab.research.google.com/assets/colab-badge.svg\" alt=\"Open In Colab\"/></a>"
      ]
    },
    {
      "metadata": {
        "id": "qmvF558cHPc9",
        "colab_type": "code",
        "colab": {}
      },
      "cell_type": "code",
      "source": [
        " import matplotlib.pyplot as plt\n",
        "import numpy as np\n",
        "import cv2\n",
        "def convolution11(input_image, kernel,threshold):\n",
        "  \n",
        "  w_input=len(input_image[0])\n",
        "  h_input=len(input_image)\n",
        "  input_image=np.array(input_image)\n",
        "  padded_input=pad_image(input_image,int((len(kernel)-1)/2),int((len(kernel[0])-1)/2))\n",
        "  padded_input=np.array(padded_input)\n",
        "  kernel=flip(kernel)\n",
        "  \n",
        "  new_image=np.zeros((len(input_image)+1,len(input_image[0])+1))\n",
        "\n",
        "  for input_x in range(0,h_input):\n",
        "    for input_y in range(0,w_input):\n",
        "        new_image[input_x,input_y]=0\n",
        "        sum_img=0\n",
        "        for kernel_x in range(0,len(kernel)):\n",
        "           for kernel_y in range(0,len(kernel[0])):\n",
        "              temp=int(new_image[input_x,input_y]) + int(padded_input[input_x+kernel_x, input_y+kernel_y])*int(kernel[kernel_x,kernel_y])\n",
        "              sum_kernel=kernel.shape[0]*kernel.shape[1]                                                                                                           \n",
        "              new_image[input_x,input_y]=int(temp/sum_kernel)\n",
        "        \n",
        "        #if new_image[input_x,input_y]>= threshold:\n",
        "        #  new_image[input_x,input_y]=255\n",
        "        #else:\n",
        "        #  new_image[input_x,input_y]=0\n",
        "        \n",
        " \n",
        "  return(new_image)\n",
        "\n",
        "def flip(matrix):\n",
        "  new_matrix=np.zeros((matrix.shape))\n",
        "  matrix=np.array(matrix)\n",
        "  l=len(matrix)\n",
        "  for i in range(l):\n",
        "    for j in range(l):\n",
        "      new_matrix[i,j]=matrix[l-i-1,l-j-1]\n",
        "  return(new_matrix)\n",
        "\n",
        "def negative(input_image):\n",
        "  #new_image2=np.zeros((len(input_image),len(input_image[0])))\n",
        "  for x in range(len(input_image)):\n",
        "     for y in range(len(input_image[0])):\n",
        "         input_image[x,y]=255-input_image[x,y]\n",
        "          \n",
        "  return(input_image)\n",
        "\n",
        "def pad_image(image,pad_x,pad_y):\n",
        "  image_x=len(image[0])\n",
        "  image_y=len(image)\n",
        "  padded_image=np.zeros((image_y+pad_y*2,image_x+pad_x*2))\n",
        "  padded_image_x=len(padded_image[0])\n",
        "  padded_image_y=len(padded_image)\n",
        "  \n",
        "  for i in range(pad_y,image_y+pad_y):\n",
        "    for j in range(pad_x, image_x+pad_x):\n",
        "      padded_image[i,j]=image[i-pad_y,j-pad_x]\n",
        "  return(padded_image)\n",
        "\n",
        "def threshold(input_image,threshold):\n",
        "  input_image=np.array(input_image)\n",
        "  w_img=input_image.shape[1]\n",
        "  l_img=input_image.shape[0]\n",
        "  for x in range(l_img):\n",
        "    for y in range(w_img):\n",
        "      if input_image[x,y]>= threshold:\n",
        "        input_image[x,y]=255\n",
        "      else:\n",
        "        input_image[x,y]=0\n",
        "  return input_image\n",
        "\n",
        "# def erode(input_image,kernel):\n",
        "#   w_kernel=len(kernel[0])\n",
        "#   new_image=convolution11(input_image,kernel,1)\n",
        "#   return(new_image)\n",
        "# def dilate(input_image,kernel):\n",
        "#   w_kernel=len(kernel[0])\n",
        "#   new_image=convolution11(input_image,kernel,w_kernel)\n",
        "#   return(new_image)\n",
        "# def detect(input_image,kernel):"
      ],
      "execution_count": 0,
      "outputs": []
    },
    {
      "metadata": {
        "id": "qV0B9d-lKhaW",
        "colab_type": "code",
        "outputId": "8261795a-eda2-41cb-f5b7-3cb50721982e",
        "colab": {
          "base_uri": "https://localhost:8080/",
          "height": 35
        }
      },
      "cell_type": "code",
      "source": [
        "import numpy as np\n",
        "import matplotlib.pyplot as plt\n",
        "import cv2\n",
        "#black =0\n",
        "#white=1\n",
        "point_kernel=np.array([[-1,-1,-1],[-1,8,-1],[-1,-1,-1]])\n",
        "\n",
        "input_image=cv2.imread(\"point.jpg\",cv2.IMREAD_GRAYSCALE) #make sure the path to the image is in String format\n",
        "point_detection=convolution11(input_image,point_kernel,150)\n",
        "\n",
        "import cv2 as cv\n",
        "cv.imwrite(\"point_output.jpg\",point_detection)"
      ],
      "execution_count": 0,
      "outputs": [
        {
          "output_type": "execute_result",
          "data": {
            "text/plain": [
              "True"
            ]
          },
          "metadata": {
            "tags": []
          },
          "execution_count": 31
        }
      ]
    },
    {
      "metadata": {
        "id": "Q_ZHEQaxP3BD",
        "colab_type": "code",
        "outputId": "49e85234-ba7a-4a24-d404-7dac8e46143d",
        "colab": {
          "base_uri": "https://localhost:8080/",
          "height": 34
        }
      },
      "cell_type": "code",
      "source": [
        "import numpy as np\n",
        "import matplotlib.pyplot as plt\n",
        "import cv2\n",
        "#black =0\n",
        "#white=1\n",
        "input_image=cv2.imread(\"segment.jpg\",cv2.IMREAD_GRAYSCALE) #make sure the path to the image is in String format\n",
        "output=threshold(input_image,100)\n",
        "\n",
        "import cv2 as cv\n",
        "cv.imwrite(\"segment_boundingbox.jpg\",output)"
      ],
      "execution_count": 0,
      "outputs": [
        {
          "output_type": "execute_result",
          "data": {
            "text/plain": [
              "True"
            ]
          },
          "metadata": {
            "tags": []
          },
          "execution_count": 35
        }
      ]
    }
  ]
}
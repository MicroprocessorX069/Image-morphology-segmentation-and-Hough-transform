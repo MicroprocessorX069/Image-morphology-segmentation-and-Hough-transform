{
  "nbformat": 4,
  "nbformat_minor": 0,
  "metadata": {
    "colab": {
      "name": "ImageMorphology.ipynb",
      "version": "0.3.2",
      "provenance": [],
      "include_colab_link": true
    },
    "kernelspec": {
      "name": "python3",
      "display_name": "Python 3"
    }
  },
  "cells": [
    {
      "cell_type": "markdown",
      "metadata": {
        "id": "view-in-github",
        "colab_type": "text"
      },
      "source": [
        "<a href=\"https://colab.research.google.com/github/MicroprocessorX069/Image-morphology-segmentation-and-Hough-transform/blob/master/ImageMorphology.ipynb\" target=\"_parent\"><img src=\"https://colab.research.google.com/assets/colab-badge.svg\" alt=\"Open In Colab\"/></a>"
      ]
    },
    {
      "metadata": {
        "id": "tVfx8vhxAnk4",
        "colab_type": "code",
        "colab": {}
      },
      "cell_type": "code",
      "source": [
        "import matplotlib.pyplot as plt\n",
        "import numpy as np\n",
        "import cv2\n",
        "def convolution11(input_image, kernel,threshold):\n",
        "  \n",
        "  w_input=len(input_image[0])\n",
        "  h_input=len(input_image)\n",
        "  input_image=np.array(input_image)\n",
        "  padded_input=pad_image(input_image,int((len(kernel)-1)/2),int((len(kernel[0])-1)/2))\n",
        "  padded_input=np.array(padded_input)\n",
        "  kernel=flip(kernel)\n",
        "  sum_kernel=np.sum(kernel)\n",
        "  new_image=np.zeros((len(input_image)+1,len(input_image[0])+1))\n",
        "\n",
        "  for input_x in range(0,h_input):\n",
        "    for input_y in range(0,w_input):\n",
        "        new_image[input_x,input_y]=0\n",
        "        sum_img=0\n",
        "        for kernel_x in range(0,len(kernel)):\n",
        "           for kernel_y in range(0,len(kernel[0])):\n",
        "              new_image[input_x,input_y]=int(new_image[input_x,input_y]) + int(padded_input[input_x+kernel_x, input_y+kernel_y])*int(kernel[kernel_x,kernel_y])\n",
        "        \n",
        "        if new_image[input_x,input_y]>= threshold:\n",
        "          new_image[input_x,input_y]=0\n",
        "        else:\n",
        "          new_image[input_x,input_y]=1\n",
        "        \n",
        " \n",
        "  return(new_image)\n",
        "\n",
        "def flip(matrix):\n",
        "  new_matrix=np.zeros((matrix.shape))\n",
        "  matrix=np.array(matrix)\n",
        "  l=len(matrix)\n",
        "  for i in range(l):\n",
        "    for j in range(l):\n",
        "      new_matrix[i,j]=matrix[l-i-1,l-j-1]\n",
        "  return(new_matrix)\n",
        "\n",
        "def negative(input_image):\n",
        "  #new_image2=np.zeros((len(input_image),len(input_image[0])))\n",
        "  for x in range(len(input_image)):\n",
        "     for y in range(len(input_image[0])):\n",
        "         if input_image[x,y]==1:\n",
        "            input_image[x,y]=0\n",
        "         else:\n",
        "            input_image[x,y]=1\n",
        "          \n",
        "  return(input_image)\n",
        "\n",
        "def pad_image(image,pad_x,pad_y):\n",
        "  image_x=len(image[0])\n",
        "  image_y=len(image)\n",
        "  padded_image=np.zeros((image_y+pad_y*2,image_x+pad_x*2))\n",
        "  padded_image_x=len(padded_image[0])\n",
        "  padded_image_y=len(padded_image)\n",
        "  \n",
        "  for i in range(pad_y,image_y+pad_y):\n",
        "    for j in range(pad_x, image_x+pad_x):\n",
        "      padded_image[i,j]=image[i-pad_y,j-pad_x]\n",
        "  return(padded_image)\n",
        "\n",
        "def threshold(input_image,threshold):\n",
        "  w=len(input_image[0])\n",
        "  h=len(input_image)\n",
        "  input_image=np.array(input_image)\n",
        "  \n",
        "  for x in range(h):\n",
        "    for y in range(w):\n",
        "      if input_image[x,y]>= threshold:\n",
        "        input_image[x,y]=1\n",
        "      else:\n",
        "        input_image[x,y]=0\n",
        "  return list(input_image)\n",
        "\n",
        "def erode(input_image,kernel):\n",
        "  w_kernel=len(kernel[0])\n",
        "  new_image=convolution11(input_image,kernel,1)\n",
        "  return(new_image)\n",
        "def dilate(input_image,kernel):\n",
        "  w_kernel=len(kernel[0])\n",
        "  new_image=convolution11(input_image,kernel,w_kernel)\n",
        "  return(new_image)"
      ],
      "execution_count": 0,
      "outputs": []
    },
    {
      "metadata": {
        "id": "ZakjI4qAJTvc",
        "colab_type": "code",
        "colab": {}
      },
      "cell_type": "code",
      "source": [
        "import numpy as np\n",
        "import matplotlib.pyplot as plt\n",
        "import cv2\n",
        "#black =0\n",
        "#white=1\n",
        "kernel=np.array([[0,1,1,1,0],[1,1,1,1,1],[1,1,1,1,1],[1,1,1,1,1],[0,1,1,1,0]])\n",
        "input_image=cv2.imread(\"noise.jpg\",cv2.IMREAD_GRAYSCALE) #make sure the path to the image is in String format\n",
        "input_image=[[]]\n",
        "input_image=np.array(threshold(input_image,150))\n",
        "\n",
        "#converting grayscale image to binary\n",
        "\n",
        "f, axarr = plt.subplots(2,2)\n",
        "axarr[0, 0].imshow(negative(input_image))\n",
        "axarr[0,1].imshow(negative(erode(input_image,kernel)))\n",
        "axarr[1,0].imshow(dilate(erode(input_image,kernel),kernel))\n",
        "axarr[1, 1].imshow(erode(dilate(dilate(erode(input_image,kernel),kernel),kernel),kernel))\n",
        "# Fine-tune figure; make subplots farther from each other.\n",
        "f.subplots_adjust(hspace=0.3)\n",
        "\n",
        "plt.show()\n"
      ],
      "execution_count": 0,
      "outputs": []
    },
    {
      "metadata": {
        "id": "o1pevWlg636d",
        "colab_type": "code",
        "outputId": "667c5483-504c-41ac-b817-67cdb79559c1",
        "colab": {
          "base_uri": "https://localhost:8080/",
          "height": 365
        }
      },
      "cell_type": "code",
      "source": [
        "input_image=[[1,1,1,1,1,1,1,1,1,1,1,1,1,1,1,1],[1,1,1,1,1,1,1,1,1,1,1,1,1,1,1,1], [1,1,0,0,0,0,1,1,1,1,0,0,0,0,1,1], [1,1,0,0,0,0,1,1,1,1,0,0,0,0,1,1], [1,1,0,0,0,0,1,1,1,1,0,0,0,0,1,1], [1,1,0,0,0,0,1,1,1,1,0,0,0,0,1,1], [1,1,0,0,0,0,1,1,1,1,0,0,0,0,1,1], [1,1,0,0,0,0,1,1,1,1,0,0,0,0,1,1], [1,1,0,0,0,0,1,1,1,1,0,0,0,0,1,1], [1,1,0,0,0,0,0,0,0,0,0,0,0,0,1,1], [1,1,0,0,0,0,0,0,0,0,0,0,0,0,1,1], [1,1,0,0,0,0,0,0,0,0,0,0,0,0,1,1], [1,1,0,0,0,0,0,0,0,0,0,0,0,0,1,1],[1,1,1,1,1,1,1,1,1,1,1,1,1,1,1,1],[1,1,1,1,1,1,1,1,1,1,1,1,1,1,1,1]]\n",
        "plt.imshow(input_image)"
      ],
      "execution_count": 0,
      "outputs": [
        {
          "output_type": "execute_result",
          "data": {
            "text/plain": [
              "<matplotlib.image.AxesImage at 0x7f0318344198>"
            ]
          },
          "metadata": {
            "tags": []
          },
          "execution_count": 2
        },
        {
          "output_type": "display_data",
          "data": {
            "image/png": "[encoded data removed]",
            "text/plain": [
              "<matplotlib.figure.Figure at 0x7f031f522ef0>"
            ]
          },
          "metadata": {
            "tags": []
          }
        }
      ]
    },
    {
      "metadata": {
        "id": "EZmMfsw46Kjs",
        "colab_type": "code",
        "outputId": "10f8b2f0-bb1b-4ff9-f9fb-9e6a68ee2a29",
        "colab": {
          "base_uri": "https://localhost:8080/",
          "height": 347
        }
      },
      "cell_type": "code",
      "source": [
        "import numpy as np\n",
        "import matplotlib.pyplot as plt\n",
        "import cv2\n",
        "#black =1\n",
        "#white=0\n",
        "kernel=np.array([[1,0,1],[0,0,0],[1,0,1]])\n",
        "kernel2=np.array([[1,1,1],[1,0,0],[1,1,1]])\n",
        "#kernel=np.array([[0,1,1,1,0],[1,1,1,1,1],[1,1,1,1,1],[1,1,1,1,1],[0,1,1,1,0]])\n",
        "\n",
        "input_image=[[1,1,1,1,1,1,1,1,1,1,1,1,1,1,1,1],[1,1,1,1,1,1,1,1,1,1,1,1,1,1,1,1], [1,1,0,0,0,0,1,1,1,1,0,0,0,0,1,1], [1,1,0,0,0,0,1,1,1,1,0,0,0,0,1,1], [1,1,0,0,0,0,1,1,1,1,0,0,0,0,1,1], [1,1,0,0,0,0,1,1,1,1,0,0,0,0,1,1], [1,1,0,0,0,0,1,1,1,1,0,0,0,0,1,1], [1,1,0,0,0,0,1,1,1,1,0,0,0,0,1,1], [1,1,0,0,0,0,1,1,1,1,0,0,0,0,1,1], [1,1,0,0,0,0,0,0,0,0,0,0,0,0,1,1], [1,1,0,0,0,0,0,0,0,0,0,0,0,0,1,1], [1,1,0,0,0,0,0,0,0,0,0,0,0,0,1,1], [1,1,0,0,0,0,0,0,0,0,0,0,0,0,1,1],[1,1,1,1,1,1,1,1,1,1,1,1,1,1,1,1],[1,1,1,1,1,1,1,1,1,1,1,1,1,1,1,1]]\n",
        "\n",
        "input_image=np.array(input_image)\n",
        "\n",
        "\n",
        "f, axarr = plt.subplots(2,2)\n",
        "axarr[0, 0].imshow(input_image)\n",
        "axarr[0,1].imshow(negative(erode(input_image,kernel)))\n",
        "axarr[1,0].imshow(negative(dilate(negative(erode(input_image,kernel)),kernel2)))\n",
        "axarr[1, 1].imshow(input_image)\n",
        "# Fine-tune figure; make subplots farther from each other.\n",
        "f.subplots_adjust(hspace=0.3)\n",
        "\n",
        "plt.show()\n"
      ],
      "execution_count": 0,
      "outputs": [
        {
          "output_type": "display_data",
          "data": {
            "image/png": "[encoded data removed]",
            "text/plain": [
              "<matplotlib.figure.Figure at 0x7f0315772160>"
            ]
          },
          "metadata": {
            "tags": []
          }
        }
      ]
    }
  ]
}
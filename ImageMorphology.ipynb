{
  "nbformat": 4,
  "nbformat_minor": 0,
  "metadata": {
    "colab": {
      "name": "ImageMorphology.ipynb",
      "version": "0.3.2",
      "provenance": [],
      "collapsed_sections": [],
      "toc_visible": true,
      "include_colab_link": true
    },
    "kernelspec": {
      "name": "python3",
      "display_name": "Python 3"
    }
  },
  "cells": [
    {
      "cell_type": "markdown",
      "metadata": {
        "id": "view-in-github",
        "colab_type": "text"
      },
      "source": [
        "<a href=\"https://colab.research.google.com/github/MicroprocessorX069/Image-morphology-segmentation-and-Hough-transform/blob/master/ImageMorphology.ipynb\" target=\"_parent\"><img src=\"https://colab.research.google.com/assets/colab-badge.svg\" alt=\"Open In Colab\"/></a>"
      ]
    },
    {
      "metadata": {
        "id": "tVfx8vhxAnk4",
        "colab_type": "code",
        "colab": {}
      },
      "cell_type": "code",
      "source": [
        "import matplotlib.pyplot as plt\n",
        "import numpy as np\n",
        "import cv2\n",
        "def convolution11(input_image, kernel,threshold):\n",
        "  #black should go as zero and white as one for both kernel and image\n",
        "  w_input=len(input_image[0])\n",
        "  h_input=len(input_image)\n",
        "  input_image=np.array(input_image)\n",
        "  padded_input=pad_image(input_image,int((len(kernel)-1)/2),int((len(kernel[0])-1)/2))\n",
        "  padded_input=np.array(padded_input)\n",
        "  kernel=flip(kernel)\n",
        "  sum_kernel=np.sum(kernel)\n",
        "  new_image=np.zeros((len(input_image)+1,len(input_image[0])+1))\n",
        "\n",
        "  for input_x in range(0,h_input):\n",
        "    for input_y in range(0,w_input):\n",
        "        new_image[input_x,input_y]=0\n",
        "        sum_img=0\n",
        "        for kernel_x in range(0,len(kernel)):\n",
        "           for kernel_y in range(0,len(kernel[0])):\n",
        "              new_image[input_x,input_y]=int(new_image[input_x,input_y]) + int(padded_input[input_x+kernel_x, input_y+kernel_y])*int(kernel[kernel_x,kernel_y])\n",
        "        \n",
        "        if new_image[input_x,input_y]>= threshold:\n",
        "          new_image[input_x,input_y]=1 #white\n",
        "        else:\n",
        "          new_image[input_x,input_y]=0 #blacck\n",
        "        \n",
        " \n",
        "  return(new_image)\n",
        "\n",
        "def flip(matrix):\n",
        "  new_matrix=np.zeros((matrix.shape))\n",
        "  matrix=np.array(matrix)\n",
        "  l=len(matrix)\n",
        "  for i in range(l):\n",
        "    for j in range(l):\n",
        "      new_matrix[i,j]=matrix[l-i-1,l-j-1]\n",
        "  return(new_matrix)\n",
        "\n",
        "def negative(input_image2):\n",
        "  #new_image2=np.zeros((len(input_image),len(input_image[0])))\n",
        "  input_image=(input_image2.astype(int))\n",
        "  for x in range(len(input_image)):\n",
        "     for y in range(len(input_image[0])):\n",
        "         if input_image[x,y]==1:\n",
        "            input_image[x,y]=0\n",
        "         else:\n",
        "            input_image[x,y]=1\n",
        "          \n",
        "  return(np.array(input_image))\n",
        "\n",
        "def pad_image(image,pad_x,pad_y):\n",
        "  image_x=len(image[0])\n",
        "  image_y=len(image)\n",
        "  padded_image=np.zeros((image_y+pad_y*2,image_x+pad_x*2))\n",
        "  padded_image_x=len(padded_image[0])\n",
        "  padded_image_y=len(padded_image)\n",
        "  \n",
        "  for i in range(pad_y,image_y+pad_y):\n",
        "    for j in range(pad_x, image_x+pad_x):\n",
        "      padded_image[i,j]=image[i-pad_y,j-pad_x]\n",
        "  return(padded_image)\n",
        "\n",
        "def threshold(input_image,threshold):\n",
        "  w=len(input_image[0])\n",
        "  h=len(input_image)\n",
        "  input_image=np.array(input_image)\n",
        "  \n",
        "  for x in range(h):\n",
        "    for y in range(w):\n",
        "      if input_image[x,y]>= threshold:\n",
        "        input_image[x,y]=1\n",
        "      else:\n",
        "        input_image[x,y]=0\n",
        "  return list(input_image)\n",
        "\n",
        "def count_ones(kernel):\n",
        "  kernel=np.array((kernel.flatten()))\n",
        "  return(np.count_nonzero(kernel))\n",
        "\n",
        "def erode(input_image,kernel):\n",
        "  s_kernel=count_ones(kernel)\n",
        "  new_image=convolution11(input_image,kernel,s_kernel)\n",
        "  return(np.array(new_image)) # returns new_image, black as 0 and white as 1 . # but viewable is inverse of it\n",
        "\n",
        "def dilate(input_image,kernel):\n",
        "  #w_kernel=len(kernel[0])\n",
        "  new_image=convolution11(input_image,kernel,1)\n",
        "  return(np.array(new_image))\n",
        "\n",
        "def open(input_image,kernel):\n",
        "  erode1=erode(input_image,kernel)\n",
        "  new_image=dilate(erode1,kernel)\n",
        "  return(np.array(new_image))\n",
        "\n",
        "def close(input_image,kernel):\n",
        "  dilate1=dilate(input_image,kernel)\n",
        "  new_image=erode(dilate1,kernel)\n",
        "  return(np.array(new_image))"
      ],
      "execution_count": 0,
      "outputs": []
    },
    {
      "metadata": {
        "id": "TOP8qNazMDYZ",
        "colab_type": "text"
      },
      "cell_type": "markdown",
      "source": [
        "##Task1 driver\n"
      ]
    },
    {
      "metadata": {
        "id": "ZakjI4qAJTvc",
        "colab_type": "code",
        "colab": {}
      },
      "cell_type": "code",
      "source": [
        "import numpy as np\n",
        "import matplotlib.pyplot as plt\n",
        "import cv2\n",
        "#black =0\n",
        "#white=1\n",
        "kernel=np.array([[0,1,1,1,0],[1,1,1,1,1],[1,1,1,1,1],[1,1,1,1,1],[1,1,1]])\n",
        "input_image=cv2.imread(\"noise.jpg\",cv2.IMREAD_GRAYSCALE) #make sure the path to the image is in String format\n",
        "input_image=[[]]\n",
        "input_image=np.array(threshold(input_image,150))\n",
        "\n",
        "#converting grayscale image to binary\n",
        "cv.imwrite(\"res_noise1.jpg\")"
      ],
      "execution_count": 0,
      "outputs": []
    },
    {
      "metadata": {
        "id": "nxiQN-6-lzTg",
        "colab_type": "code",
        "outputId": "9c6d3a12-5d61-4668-a8cb-67ccc432a821",
        "colab": {
          "base_uri": "https://localhost:8080/",
          "height": 350
        }
      },
      "cell_type": "code",
      "source": [
        "import numpy as np\n",
        "import matplotlib.pyplot as plt\n",
        "import cv2\n",
        "#black =1\n",
        "#white=0\n",
        "\n",
        "\n",
        "kernel_all=np.array([[0,0,0],[0,0,0],[0,0,0]])#black as 1 and white as zero, need to be inverted\n",
        "input_image=cv2.imread(\"noise.jpg\",cv2.IMREAD_GRAYSCALE) #make sure the path to the image is in String format\n",
        "input_image=np.array(threshold(input_image,150))\n",
        "\n",
        "input_image=np.array(negative(input_image))\n",
        "kernel_all=negative(kernel_all)\n",
        "#images and kernel ready\n",
        "import cv2 as cv\n",
        "#1 open close\n",
        "close1=close(input_image,kernel_all)\n",
        "res_noise1=open(close1,kernel_all)\n",
        "view1=negative(res_noise1)\n",
        "cv.imwrite(\"res_noise1.jpg\",res_noise1)\n",
        "\n",
        "#1 open close\n",
        "open1=open(input_image,kernel_all)\n",
        "res_noise2=close(open1,kernel_all)\n",
        "view2=negative(res_noise2)\n",
        "cv.imwrite(\"res_noise2.jpg\",res_noise2)\n",
        "\n",
        "\n",
        "# f, axarr = plt.subplots(1,2)\n",
        "# axarr[0].imshow(negative(view1))#white as one and black as zero\n",
        "# axarr[1].imshow(negative(view2))\n",
        "# # axarr[1,0].imshow(view_erode2)\n",
        "# # axarr[1, 1].imshow(view_dilate1)\n",
        "\n",
        "# f.subplots_adjust(hspace=0.3)\n",
        "# # cv2.imwrite(\"1c2.jpg\",view_erode1)\n",
        "# plt.show()\n",
        "plt.imshow(negative(view1))\n",
        "plt.savefig(\"res_noise1.jpg\")\n",
        "plt.imshow(negative(view2))\n",
        "plt.savefig(\"res_noise2.jpg\")"
      ],
      "execution_count": 0,
      "outputs": [
        {
          "output_type": "display_data",
          "data": {
            "image/png": "[encoded data removed]",
            "text/plain": [
              "<matplotlib.figure.Figure at 0x7f8329c39438>"
            ]
          },
          "metadata": {
            "tags": []
          }
        }
      ]
    },
    {
      "metadata": {
        "id": "GTjhM9dqozPa",
        "colab_type": "code",
        "outputId": "4d36f22c-903d-4f9c-d4ef-15860e1130ce",
        "colab": {
          "base_uri": "https://localhost:8080/",
          "height": 350
        }
      },
      "cell_type": "code",
      "source": [
        "res_bound1=np.subtract(res_noise1,erode(res_noise1,kernel_all)[0:314,0:355])\n",
        "plt.imshow(negative(res_bound1))\n",
        "plt.savefig(\"res_bound1.jpg\")\n",
        "res_bound2=np.subtract(res_noise2,erode(res_noise2,kernel_all)[0:314,0:355])\n",
        "plt.imshow(negative(res_bound2))\n",
        "plt.savefig(\"res_bound2.jpg\")"
      ],
      "execution_count": 0,
      "outputs": [
        {
          "output_type": "display_data",
          "data": {
            "image/png": "[encoded data removed]",
            "text/plain": [
              "<matplotlib.figure.Figure at 0x7f8329b22358>"
            ]
          },
          "metadata": {
            "tags": []
          }
        }
      ]
    },
    {
      "metadata": {
        "id": "yvH9bEjypZyl",
        "colab_type": "code",
        "outputId": "3b22b05d-0c6a-48f5-dfde-a5a6a917f5d9",
        "colab": {
          "base_uri": "https://localhost:8080/",
          "height": 350
        }
      },
      "cell_type": "code",
      "source": [
        ""
      ],
      "execution_count": 0,
      "outputs": [
        {
          "output_type": "display_data",
          "data": {
            "image/png": "[encoded data removed]",
            "text/plain": [
              "<matplotlib.figure.Figure at 0x7f8329b53a90>"
            ]
          },
          "metadata": {
            "tags": []
          }
        }
      ]
    },
    {
      "metadata": {
        "id": "eWLUTjQbqjDN",
        "colab_type": "text"
      },
      "cell_type": "markdown",
      "source": [
        "## DO NOT EXECUTE"
      ]
    },
    {
      "metadata": {
        "id": "o1pevWlg636d",
        "colab_type": "code",
        "outputId": "76f2c5f8-7965-466c-86d2-6a2e830370c7",
        "colab": {
          "base_uri": "https://localhost:8080/",
          "height": 364
        }
      },
      "cell_type": "code",
      "source": [
        "#black as 1 and white as 0\n",
        "input_image=np.array([[1,1,1,1,1,1,1,1,1,1,1,1,1,1,1,1,1,1],[1,1,1,1,1,1,1,1,1,1,1,1,1,1,1,1,1,1], [1,1,0,0,0,0,0,1,1,1,1,0,0,0,0,0,1,1], [1,1,0,0,0,0,0,1,1,1,1,0,0,0,0,0,1,1], [1,1,0,0,0,0,0,1,1,1,1,0,0,0,0,0,1,1], [1,1,0,0,0,0,0,1,1,1,1,0,0,0,0,0,1,1], [1,1,0,0,0,0,0,1,1,1,1,0,0,0,0,0,1,1], [1,1,0,0,0,0,0,1,1,1,1,0,0,0,0,0,1,1], [1,1,0,0,0,0,0,1,1,1,1,0,0,0,0,0,1,1], [1,1,0,0,0,0,0,0,0,0,0,0,0,0,0,0,1,1], [1,1,0,0,0,0,0,0,0,0,0,0,0,0,0,0,1,1], [1,1,0,0,0,0,0,0,0,0,0,0,0,0,0,0,1,1], [1,1,0,0,0,0,0,0,0,0,0,0,0,0,0,0,1,1],[1,1,1,1,1,1,1,1,1,1,1,1,1,1,1,1,1,1],[1,1,1,1,1,1,1,1,1,1,1,1,1,1,1,1,1,1]])\n",
        "plt.imshow(input_image)"
      ],
      "execution_count": 0,
      "outputs": [
        {
          "output_type": "execute_result",
          "data": {
            "text/plain": [
              "<matplotlib.image.AxesImage at 0x7f4de683aba8>"
            ]
          },
          "metadata": {
            "tags": []
          },
          "execution_count": 32
        },
        {
          "output_type": "display_data",
          "data": {
            "image/png": "[encoded data removed]",
            "text/plain": [
              "<matplotlib.figure.Figure at 0x7f4de3db0550>"
            ]
          },
          "metadata": {
            "tags": []
          }
        }
      ]
    },
    {
      "metadata": {
        "id": "iLhMpvXOMIgS",
        "colab_type": "text"
      },
      "cell_type": "markdown",
      "source": [
        "## Homework 1 Driver"
      ]
    },
    {
      "metadata": {
        "id": "EZmMfsw46Kjs",
        "colab_type": "code",
        "outputId": "28c48447-c7a0-4b6c-d589-9603a2231ed7",
        "colab": {
          "base_uri": "https://localhost:8080/",
          "height": 348
        }
      },
      "cell_type": "code",
      "source": [
        "import numpy as np\n",
        "import matplotlib.pyplot as plt\n",
        "import cv2\n",
        "#black =1\n",
        "#white=0\n",
        "\n",
        "kernel_corner=np.array([[1,1,1,1,1],[1,1,1,1,1],[1,1,1,1,1],[1,1,1,1,1],[1,1,1,1,0]]) #black as 1 and white as zero, need to be inverted\n",
        "kernel_horizontal=np.array([[1,1,1],[0,0,0],[1,1,1]]) #black as 1 and white as zero, need to be inverted\n",
        "kernel_all=np.array([[0,0,0],[0,0,0],[0,0,0]])#black as 1 and white as zero, need to be inverted\n",
        "kernel_vertical=np.array([[1,0,1],[1,0,1],[1,0,1]])#black as 1 and white as zero, need to be inverted\n",
        "kernel_circle=np.array([[1,1,0,1,1],[1,0,0,0,1],[0,0,0,0,0],[1,0,0,0,1],[1,1,0,1,1]])\n",
        "kernel_plus=np.array([[1,0,1],[0,0,0],[1,0,1]])\n",
        "#kernel=np.array([[0,1,1,1,0],[1,1,1,1,1],[1,1,1,1,1],[1,1,1,1,1],[0,1,1,1,0]])\n",
        "# equal sides 4x4\n",
        "input_image=np.array([[1,1,1,1,1,1,1,1,1,1,1,1,1,1,1,1],[1,1,1,1,1,1,1,1,1,1,1,1,1,1,1,1], [1,1,0,0,0,0,1,1,1,1,0,0,0,0,1,1], [1,1,0,0,0,0,1,1,1,1,0,0,0,0,1,1], [1,1,0,0,0,0,1,1,1,1,0,0,0,0,1,1], [1,1,0,0,0,0,1,1,1,1,0,0,0,0,1,1], [1,1,0,0,0,0,1,1,1,1,0,0,0,0,1,1], [1,1,0,0,0,0,1,1,1,1,0,0,0,0,1,1], [1,1,0,0,0,0,1,1,1,1,0,0,0,0,1,1], [1,1,0,0,0,0,1,1,1,1,0,0,0,0,1,1], [1,1,0,0,0,0,1,1,1,1,0,0,0,0,1,1], [1,1,0,0,0,0,1,1,1,1,0,0,0,0,1,1], [1,1,0,0,0,0,0,0,0,0,0,0,0,0,1,1], [1,1,0,0,0,0,0,0,0,0,0,0,0,0,1,1], [1,1,0,0,0,0,0,0,0,0,0,0,0,0,1,1], [1,1,0,0,0,0,0,0,0,0,0,0,0,0,1,1],[1,1,1,1,1,1,1,1,1,1,1,1,1,1,1,1],[1,1,1,1,1,1,1,1,1,1,1,1,1,1,1,1]])\n",
        "# large sides 5x4\n",
        "#input_image=np.array([[1,1,1,1,1,1,1,1,1,1,1,1,1,1,1,1,1,1],[1,1,1,1,1,1,1,1,1,1,1,1,1,1,1,1,1,1], [1,1,0,0,0,0,0,1,1,1,1,0,0,0,0,0,1,1], [1,1,0,0,0,0,0,1,1,1,1,0,0,0,0,0,1,1], [1,1,0,0,0,0,0,1,1,1,1,0,0,0,0,0,1,1], [1,1,0,0,0,0,0,1,1,1,1,0,0,0,0,0,1,1], [1,1,0,0,0,0,0,1,1,1,1,0,0,0,0,0,1,1], [1,1,0,0,0,0,0,1,1,1,1,0,0,0,0,0,1,1], [1,1,0,0,0,0,0,1,1,1,1,0,0,0,0,0,1,1], [1,1,0,0,0,0,0,0,0,0,0,0,0,0,0,0,1,1], [1,1,0,0,0,0,0,0,0,0,0,0,0,0,0,0,1,1], [1,1,0,0,0,0,0,0,0,0,0,0,0,0,0,0,1,1], [1,1,0,0,0,0,0,0,0,0,0,0,0,0,0,0,1,1],[1,1,1,1,1,1,1,1,1,1,1,1,1,1,1,1,1,1],[1,1,1,1,1,1,1,1,1,1,1,1,1,1,1,1,1,1]])\n",
        "#   4x3\n",
        "#input_image=np.array([[1,1,1,1,1,1,1,1,1,1,1,1,1,1,1,1],[1,1,1,1,1,1,1,1,1,1,1,1,1,1,1,1], [1,1,0,0,0,0,1,1,1,1,0,0,0,0,1,1], [1,1,0,0,0,0,1,1,1,1,0,0,0,0,1,1], [1,1,0,0,0,0,1,1,1,1,0,0,0,0,1,1], [1,1,0,0,0,0,1,1,1,1,0,0,0,0,1,1], [1,1,0,0,0,0,1,1,1,1,0,0,0,0,1,1], [1,1,0,0,0,0,1,1,1,1,0,0,0,0,1,1], [1,1,0,0,0,0,1,1,1,1,0,0,0,0,1,1], [1,1,0,0,0,0,0,0,0,0,0,0,0,0,1,1], [1,1,0,0,0,0,0,0,0,0,0,0,0,0,1,1], [1,1,0,0,0,0,0,0,0,0,0,0,0,0,1,1],[1,1,1,1,1,1,1,1,1,1,1,1,1,1,1,1],[1,1,1,1,1,1,1,1,1,1,1,1,1,1,1,1]])\n",
        "#3x3\n",
        "#input_image=np.array([[1,1,1,1,1,1,1,1,1,1,1,1,1,1],[1,1,1,1,1,1,1,1,1,1,1,1,1,1], [1,1,0,0,0,1,1,1,1,0,0,0,1,1], [1,1,0,0,0,1,1,1,1,0,0,0,1,1], [1,1,0,0,0,1,1,1,1,0,0,0,1,1], [1,1,0,0,0,1,1,1,1,0,0,0,1,1], [1,1,0,0,0,1,1,1,1,0,0,0,1,1], [1,1,0,0,0,1,1,1,1,0,0,0,1,1], [1,1,0,0,0,1,1,1,1,0,0,0,1,1], [1,1,0,0,0,0,0,0,0,0,0,0,1,1], [1,1,0,0,0,0,0,0,0,0,0,0,1,1], [1,1,0,0,0,0,0,0,0,0,0,0,1,1],[1,1,1,1,1,1,1,1,1,1,1,1,1,1],[1,1,1,1,1,1,1,1,1,1,1,1,1,1]])\n",
        "# for negative input_image must be numpy\n",
        "input_image=np.array(negative(input_image))\n",
        "kernel=negative(kernel_horizontal)\n",
        "kernel2=negative(kernel_all)\n",
        "kernel_circle=negative(kernel_circle)\n",
        "kernel_plus=negative(kernel_plus)\n",
        "kernel_vertical=negative(kernel_vertical)\n",
        "kernel1=np.array([[1,1,1],[1,1,0],[1,1,0]])\n",
        "kernel1=np.array(kernel1)\n",
        "#images and kernel ready\n",
        "\n",
        "#1 erosion\n",
        "erode1=close(input_image,kernel_all)\n",
        "view_erode1=negative(erode1)\n",
        "\n",
        "#2 erosion\n",
        "erode2=erode(erode1,kernel_plus)\n",
        "view_erode2=negative(erode2)\n",
        "\n",
        "#2 erosion\n",
        "dilate1=dilate(erode2,kernel1)\n",
        "view_dilate1=negative(dilate1)\n",
        "\n",
        "f, axarr = plt.subplots(2,2)\n",
        "axarr[0, 0].imshow(negative(input_image))#white as one and black as zero\n",
        "axarr[0,1].imshow(view_erode1)\n",
        "axarr[1,0].imshow(view_erode2)\n",
        "axarr[1, 1].imshow(view_dilate1)\n",
        "# Fine-tune figure; make subplots farther from each other.\n",
        "f.subplots_adjust(hspace=0.3)\n",
        "cv2.imwrite(\"1c2.jpg\",view_erode1)\n",
        "plt.show()\n"
      ],
      "execution_count": 0,
      "outputs": [
        {
          "output_type": "display_data",
          "data": {
            "image/png": "[encoded data removed]",
            "text/plain": [
              "<matplotlib.figure.Figure at 0x7f40308c7198>"
            ]
          },
          "metadata": {
            "tags": []
          }
        }
      ]
    },
    {
      "metadata": {
        "id": "RSmvTLeDQTHC",
        "colab_type": "code",
        "outputId": "8533a2dc-25c1-4d8e-e8cc-8e2eaa0a4e8e",
        "colab": {
          "base_uri": "https://localhost:8080/",
          "height": 368
        }
      },
      "cell_type": "code",
      "source": [
        "kernel_plus=np.array([[1,0,1],[1,0,1],[1,0,1]])\n",
        "plt.imshow(kernel_plus)"
      ],
      "execution_count": 0,
      "outputs": [
        {
          "output_type": "execute_result",
          "data": {
            "text/plain": [
              "<matplotlib.image.AxesImage at 0x7f40307910f0>"
            ]
          },
          "metadata": {
            "tags": []
          },
          "execution_count": 22
        },
        {
          "output_type": "display_data",
          "data": {
            "image/png": "[encoded data removed]",
            "text/plain": [
              "<matplotlib.figure.Figure at 0x7f40308a12e8>"
            ]
          },
          "metadata": {
            "tags": []
          }
        }
      ]
    },
    {
      "metadata": {
        "id": "rFdkTpMfqDxi",
        "colab_type": "code",
        "outputId": "9ae22038-fa7b-4bcd-e15c-4c369771675a",
        "colab": {
          "base_uri": "https://localhost:8080/",
          "height": 85
        }
      },
      "cell_type": "code",
      "source": [
        "kernel_circle=cv2.imread(\"circle kernel.PNG\",cv2.IMREAD_GRAYSCALE) #make sure the path to the image is in String format\n",
        "kernel_circle=np.array(threshold(kernel_circle,150))\n",
        "kernel_circle=np.arraykernel_circle[9:13,6:10]\n",
        "#black is 1 white is zero\n",
        "kernel_circle=np.array([[1,1,0,1,1],[1,0,0,0,1],[0,0,0,0,0],[0,0,0,0,0],[1,0,0,0,1],[1,1,0,1,1]])"
      ],
      "execution_count": 0,
      "outputs": [
        {
          "output_type": "stream",
          "text": [
            "[[1 0 0 1]\n",
            " [0 0 0 0]\n",
            " [0 0 0 0]\n",
            " [1 0 0 1]]\n"
          ],
          "name": "stdout"
        }
      ]
    }
  ]
}